{
 "cells": [
  {
   "cell_type": "code",
   "execution_count": 1,
   "metadata": {
    "colab": {
     "base_uri": "https://localhost:8080/"
    },
    "executionInfo": {
     "elapsed": 21069,
     "status": "ok",
     "timestamp": 1716633952517,
     "user": {
      "displayName": "Kevin Min",
      "userId": "01364448736279284385"
     },
     "user_tz": -540
    },
    "id": "V622uDUzVzDB",
    "outputId": "e96ac43e-17b4-47b6-acb2-e3b0b9008564"
   },
   "outputs": [
    {
     "name": "stderr",
     "output_type": "stream",
     "text": [
      "Error occurred during getting browser(s): random, but was suppressed with fallback.\n"
     ]
    }
   ],
   "source": [
    "import dart_fss as dart\n",
    "# import sqlite3 as sql\n",
    "# import FinanceDataReader as fdr\n",
    "import pandas as pd\n",
    "from dotenv import load_dotenv\n",
    "import os\n",
    "import warnings\n",
    "\n",
    "warnings.filterwarnings('ignore')"
   ]
  },
  {
   "cell_type": "code",
   "execution_count": 2,
   "metadata": {
    "colab": {
     "base_uri": "https://localhost:8080/",
     "height": 52
    },
    "executionInfo": {
     "elapsed": 1535,
     "status": "ok",
     "timestamp": 1716633954049,
     "user": {
      "displayName": "Kevin Min",
      "userId": "01364448736279284385"
     },
     "user_tz": -540
    },
    "id": "aaekZgvTVzDB",
    "outputId": "002bfd2e-ab7a-4c32-b000-176d1659fe2a"
   },
   "outputs": [
    {
     "data": {
      "text/plain": [
       "'4177ba410dc45d83086d57e8ff98d55978faf0df'"
      ]
     },
     "execution_count": 2,
     "metadata": {},
     "output_type": "execute_result"
    }
   ],
   "source": [
    "load_dotenv(verbose=True)\n",
    "dart_api = os.getenv('DART_API')\n",
    "dart.set_api_key(api_key=dart_api)"
   ]
  },
  {
   "cell_type": "code",
   "execution_count": 3,
   "metadata": {
    "executionInfo": {
     "elapsed": 290,
     "status": "ok",
     "timestamp": 1716633954333,
     "user": {
      "displayName": "Kevin Min",
      "userId": "01364448736279284385"
     },
     "user_tz": -540
    },
    "id": "2cFEq9boVzDC"
   },
   "outputs": [
    {
     "name": "stdout",
     "output_type": "stream",
     "text": [
      "⠋ Loading Stock Market Information"
     ]
    },
    {
     "name": "stdout",
     "output_type": "stream",
     "text": [
      "                                   \r"
     ]
    }
   ],
   "source": [
    "corp_list = dart.get_corp_list()"
   ]
  },
  {
   "cell_type": "code",
   "execution_count": 4,
   "metadata": {
    "colab": {
     "base_uri": "https://localhost:8080/"
    },
    "executionInfo": {
     "elapsed": 3,
     "status": "ok",
     "timestamp": 1716634015879,
     "user": {
      "displayName": "Kevin Min",
      "userId": "01364448736279284385"
     },
     "user_tz": -540
    },
    "id": "3DvbVoqFVzDC",
    "outputId": "04533dae-a34b-4f82-f7d9-33fbeeda6080"
   },
   "outputs": [],
   "source": [
    "code = '443060'\n",
    "bgn_de = '20190101'"
   ]
  },
  {
   "cell_type": "code",
   "execution_count": 6,
   "metadata": {},
   "outputs": [],
   "source": [
    "company = corp_list.find_by_stock_code(code)"
   ]
  },
  {
   "cell_type": "code",
   "execution_count": 7,
   "metadata": {},
   "outputs": [
    {
     "data": {
      "text/plain": [
       "{'corp_code': '01194689',\n",
       " 'corp_name': 'HD현대마린솔루션',\n",
       " 'corp_eng_name': 'HD Hyundai Marine Solution Co., Ltd',\n",
       " 'stock_code': '443060',\n",
       " 'modify_date': '20250326',\n",
       " 'sector': '건축기술, 엔지니어링 및 관련 기술 서비스업',\n",
       " 'product': 'AM(After Market) 솔루션, 친환경 Retrofit, 디지털 제어',\n",
       " 'corp_cls': 'Y'}"
      ]
     },
     "execution_count": 7,
     "metadata": {},
     "output_type": "execute_result"
    }
   ],
   "source": [
    "company.info"
   ]
  },
  {
   "cell_type": "code",
   "execution_count": 5,
   "metadata": {
    "colab": {
     "base_uri": "https://localhost:8080/",
     "height": 84,
     "referenced_widgets": [
      "78b807d5e4614118abdc1a01f311a161",
      "5a3eae1aac7049d1ad405370b3d986f3",
      "424ec42a6a0f48da9731dfa0736716df",
      "327f0e4571114f5cba1dee6cf2407d4e",
      "49b3f089192b485b8224b5623fc7ebba",
      "d8fbff62fa604c8b981fb9c641f3b5f8",
      "95a56762480b44cd9ca38d7ed75110d0",
      "99a3b777de934e09be29ea4c34b99251",
      "cd03c9af7cd34cd7b640f634fc9ab345",
      "572eaf218a644e61a4f36c0eff07f0f2",
      "af348d2ed92e43d085954602dd002b65"
     ]
    },
    "id": "UPJLpPZhVzDC",
    "outputId": "2f398d2b-75a0-4c8f-cdce-257057dde995"
   },
   "outputs": [
    {
     "data": {
      "application/vnd.jupyter.widget-view+json": {
       "model_id": "4e5907fe0c0043248aeffc6fc976c3a6",
       "version_major": 2,
       "version_minor": 0
      },
      "text/plain": [
       "Annual reports:   0%|          | 0/7 [00:00<?, ?report/s]"
      ]
     },
     "metadata": {},
     "output_type": "display_data"
    },
    {
     "name": "stdout",
     "output_type": "stream",
     "text": [
      "                                      \r"
     ]
    },
    {
     "name": "stderr",
     "output_type": "stream",
     "text": [
      "Traceback (most recent call last):\n",
      "  File \"c:\\Users\\siyun\\AppData\\Local\\Programs\\Python\\Python313\\Lib\\site-packages\\dart_fss\\filings\\reports.py\", line 416, in load_xbrl\n",
      "    file_path = download_xbrl(\n",
      "        path=path, rcept_no=self.rcept_no)\n",
      "  File \"c:\\Users\\siyun\\AppData\\Local\\Programs\\Python\\Python313\\Lib\\site-packages\\dart_fss\\api\\finance\\xbrl.py\", line 38, in download_xbrl\n",
      "    resp = request.download(url=url, path=temp, payload=payload)\n",
      "  File \"c:\\Users\\siyun\\AppData\\Local\\Programs\\Python\\Python313\\Lib\\site-packages\\dart_fss\\utils\\request.py\", line 248, in download\n",
      "    raise FileNotFoundError('target does not exist')\n",
      "FileNotFoundError: target does not exist\n",
      "\n",
      "During handling of the above exception, another exception occurred:\n",
      "\n",
      "Traceback (most recent call last):\n",
      "  File \"c:\\Users\\siyun\\AppData\\Local\\Programs\\Python\\Python313\\Lib\\site-packages\\dart_fss\\fs\\extract.py\", line 1551, in extract\n",
      "    nstatements = analyze_report(report=report,\n",
      "                                 fs_tp=fs_tp,\n",
      "    ...<2 lines>...\n",
      "                                 separator=separator,\n",
      "                                 dataset=dataset)\n",
      "  File \"c:\\Users\\siyun\\AppData\\Local\\Programs\\Python\\Python313\\Lib\\site-packages\\dart_fss\\fs\\extract.py\", line 1354, in analyze_report\n",
      "    xbrl = report.xbrl\n",
      "           ^^^^^^^^^^^\n",
      "  File \"c:\\Users\\siyun\\AppData\\Local\\Programs\\Python\\Python313\\Lib\\site-packages\\dart_fss\\filings\\reports.py\", line 407, in xbrl\n",
      "    self.load_xbrl()\n",
      "    ~~~~~~~~~~~~~~^^\n",
      "  File \"c:\\Users\\siyun\\AppData\\Local\\Programs\\Python\\Python313\\Lib\\site-packages\\dart_fss\\filings\\reports.py\", line 420, in load_xbrl\n",
      "    xbrl_attached = self._get_xbrl()\n",
      "  File \"c:\\Users\\siyun\\AppData\\Local\\Programs\\Python\\Python313\\Lib\\site-packages\\dart_fss\\filings\\reports.py\", line 441, in _get_xbrl\n",
      "    attached_files = self.find_all(**query)\n",
      "  File \"c:\\Users\\siyun\\AppData\\Local\\Programs\\Python\\Python313\\Lib\\site-packages\\dart_fss\\filings\\reports.py\", line 401, in find_all\n",
      "    dataset[s] = func_set[s]()\n",
      "                 ~~~~~~~~~~~^^\n",
      "  File \"c:\\Users\\siyun\\AppData\\Local\\Programs\\Python\\Python313\\Lib\\site-packages\\dart_fss\\filings\\reports.py\", line 387, in fn_attached_files\n",
      "    x for x in self.attached_files if determinant(x.filename)]\n",
      "               ^^^^^^^^^^^^^^^^^^^\n",
      "TypeError: 'NoneType' object is not iterable\n"
     ]
    },
    {
     "data": {
      "application/vnd.jupyter.widget-view+json": {
       "model_id": "4f24fd58037e45a99025cc0a89f39f92",
       "version_major": 2,
       "version_minor": 0
      },
      "text/plain": [
       "Semiannual reports:   0%|          | 0/1 [00:00<?, ?report/s]"
      ]
     },
     "metadata": {},
     "output_type": "display_data"
    },
    {
     "name": "stdout",
     "output_type": "stream",
     "text": [
      "                                      \r"
     ]
    },
    {
     "data": {
      "application/vnd.jupyter.widget-view+json": {
       "model_id": "f65d2534ace34e03b0930cae036d5d07",
       "version_major": 2,
       "version_minor": 0
      },
      "text/plain": [
       "Quarterly reports:   0%|          | 0/2 [00:00<?, ?report/s]"
      ]
     },
     "metadata": {},
     "output_type": "display_data"
    },
    {
     "name": "stderr",
     "output_type": "stream",
     "text": [
      "Traceback (most recent call last):\n",
      "  File \"c:\\Users\\siyun\\AppData\\Local\\Programs\\Python\\Python313\\Lib\\site-packages\\dart_fss\\filings\\reports.py\", line 416, in load_xbrl\n",
      "    file_path = download_xbrl(\n",
      "        path=path, rcept_no=self.rcept_no)\n",
      "  File \"c:\\Users\\siyun\\AppData\\Local\\Programs\\Python\\Python313\\Lib\\site-packages\\dart_fss\\api\\finance\\xbrl.py\", line 38, in download_xbrl\n",
      "    resp = request.download(url=url, path=temp, payload=payload)\n",
      "  File \"c:\\Users\\siyun\\AppData\\Local\\Programs\\Python\\Python313\\Lib\\site-packages\\dart_fss\\utils\\request.py\", line 248, in download\n",
      "    raise FileNotFoundError('target does not exist')\n",
      "FileNotFoundError: target does not exist\n",
      "\n",
      "During handling of the above exception, another exception occurred:\n",
      "\n",
      "Traceback (most recent call last):\n",
      "  File \"c:\\Users\\siyun\\AppData\\Local\\Programs\\Python\\Python313\\Lib\\site-packages\\dart_fss\\fs\\extract.py\", line 1551, in extract\n",
      "    nstatements = analyze_report(report=report,\n",
      "                                 fs_tp=fs_tp,\n",
      "    ...<2 lines>...\n",
      "                                 separator=separator,\n",
      "                                 dataset=dataset)\n",
      "  File \"c:\\Users\\siyun\\AppData\\Local\\Programs\\Python\\Python313\\Lib\\site-packages\\dart_fss\\fs\\extract.py\", line 1354, in analyze_report\n",
      "    xbrl = report.xbrl\n",
      "           ^^^^^^^^^^^\n",
      "  File \"c:\\Users\\siyun\\AppData\\Local\\Programs\\Python\\Python313\\Lib\\site-packages\\dart_fss\\filings\\reports.py\", line 407, in xbrl\n",
      "    self.load_xbrl()\n",
      "    ~~~~~~~~~~~~~~^^\n",
      "  File \"c:\\Users\\siyun\\AppData\\Local\\Programs\\Python\\Python313\\Lib\\site-packages\\dart_fss\\filings\\reports.py\", line 420, in load_xbrl\n",
      "    xbrl_attached = self._get_xbrl()\n",
      "  File \"c:\\Users\\siyun\\AppData\\Local\\Programs\\Python\\Python313\\Lib\\site-packages\\dart_fss\\filings\\reports.py\", line 441, in _get_xbrl\n",
      "    attached_files = self.find_all(**query)\n",
      "  File \"c:\\Users\\siyun\\AppData\\Local\\Programs\\Python\\Python313\\Lib\\site-packages\\dart_fss\\filings\\reports.py\", line 401, in find_all\n",
      "    dataset[s] = func_set[s]()\n",
      "                 ~~~~~~~~~~~^^\n",
      "  File \"c:\\Users\\siyun\\AppData\\Local\\Programs\\Python\\Python313\\Lib\\site-packages\\dart_fss\\filings\\reports.py\", line 387, in fn_attached_files\n",
      "    x for x in self.attached_files if determinant(x.filename)]\n",
      "               ^^^^^^^^^^^^^^^^^^^\n",
      "TypeError: 'NoneType' object is not iterable\n"
     ]
    },
    {
     "name": "stdout",
     "output_type": "stream",
     "text": [
      "                                      \r"
     ]
    },
    {
     "data": {
      "text/plain": [
       "'c:\\\\project_local\\\\rootN\\\\dart\\\\fsdata\\\\HD현대마린솔루션_443060_FS.xlsx'"
      ]
     },
     "execution_count": 5,
     "metadata": {},
     "output_type": "execute_result"
    }
   ],
   "source": [
    "company = corp_list.find_by_stock_code(code)\n",
    "fs = company.extract_fs(bgn_de=bgn_de, report_tp=['annual', 'half', 'quarter'])\n",
    "fs.save(f'{company.corp_name}_{code}_FS.xlsx')"
   ]
  },
  {
   "cell_type": "code",
   "execution_count": 6,
   "metadata": {},
   "outputs": [
    {
     "data": {
      "application/vnd.jupyter.widget-view+json": {
       "model_id": "fd2b71bceef948b994652fa3b409ff2b",
       "version_major": 2,
       "version_minor": 0
      },
      "text/plain": [
       "Annual reports:   0%|          | 0/6 [00:00<?, ?report/s]"
      ]
     },
     "metadata": {},
     "output_type": "display_data"
    },
    {
     "name": "stdout",
     "output_type": "stream",
     "text": [
      "                                      \r"
     ]
    },
    {
     "data": {
      "application/vnd.jupyter.widget-view+json": {
       "model_id": "2c170166359e406086db34e180a7d7c0",
       "version_major": 2,
       "version_minor": 0
      },
      "text/plain": [
       "Semiannual reports:   0%|          | 0/5 [00:00<?, ?report/s]"
      ]
     },
     "metadata": {},
     "output_type": "display_data"
    },
    {
     "name": "stdout",
     "output_type": "stream",
     "text": [
      "                                      \r"
     ]
    },
    {
     "data": {
      "application/vnd.jupyter.widget-view+json": {
       "model_id": "80b827e51db04c6bad0f60517a9183f9",
       "version_major": 2,
       "version_minor": 0
      },
      "text/plain": [
       "Quarterly reports:   0%|          | 0/10 [00:00<?, ?report/s]"
      ]
     },
     "metadata": {},
     "output_type": "display_data"
    },
    {
     "name": "stdout",
     "output_type": "stream",
     "text": [
      "                                      \r"
     ]
    },
    {
     "data": {
      "text/plain": [
       "'d:\\\\project_local\\\\rootN\\\\dart\\\\fsdata\\\\코스맥스_192820_FS_separate.xlsx'"
      ]
     },
     "execution_count": 6,
     "metadata": {},
     "output_type": "execute_result"
    }
   ],
   "source": [
    "company = corp_list.find_by_stock_code(code)\n",
    "fs = company.extract_fs(bgn_de=bgn_de, report_tp=['annual', 'half', 'quarter'], separate=True)\n",
    "fs.save(f'{company.corp_name}_{code}_FS_separate.xlsx')"
   ]
  },
  {
   "cell_type": "code",
   "execution_count": null,
   "metadata": {},
   "outputs": [],
   "source": []
  }
 ],
 "metadata": {
  "colab": {
   "provenance": []
  },
  "kernelspec": {
   "display_name": "Python 3",
   "language": "python",
   "name": "python3"
  },
  "language_info": {
   "codemirror_mode": {
    "name": "ipython",
    "version": 3
   },
   "file_extension": ".py",
   "mimetype": "text/x-python",
   "name": "python",
   "nbconvert_exporter": "python",
   "pygments_lexer": "ipython3",
   "version": "3.13.2"
  },
  "widgets": {
   "application/vnd.jupyter.widget-state+json": {
    "327f0e4571114f5cba1dee6cf2407d4e": {
     "model_module": "@jupyter-widgets/controls",
     "model_module_version": "1.5.0",
     "model_name": "HTMLModel",
     "state": {
      "_dom_classes": [],
      "_model_module": "@jupyter-widgets/controls",
      "_model_module_version": "1.5.0",
      "_model_name": "HTMLModel",
      "_view_count": null,
      "_view_module": "@jupyter-widgets/controls",
      "_view_module_version": "1.5.0",
      "_view_name": "HTMLView",
      "description": "",
      "description_tooltip": null,
      "layout": "IPY_MODEL_572eaf218a644e61a4f36c0eff07f0f2",
      "placeholder": "​",
      "style": "IPY_MODEL_af348d2ed92e43d085954602dd002b65",
      "value": " 1/24 [01:09&lt;26:49, 69.98s/report]"
     }
    },
    "424ec42a6a0f48da9731dfa0736716df": {
     "model_module": "@jupyter-widgets/controls",
     "model_module_version": "1.5.0",
     "model_name": "FloatProgressModel",
     "state": {
      "_dom_classes": [],
      "_model_module": "@jupyter-widgets/controls",
      "_model_module_version": "1.5.0",
      "_model_name": "FloatProgressModel",
      "_view_count": null,
      "_view_module": "@jupyter-widgets/controls",
      "_view_module_version": "1.5.0",
      "_view_name": "ProgressView",
      "bar_style": "",
      "description": "",
      "description_tooltip": null,
      "layout": "IPY_MODEL_99a3b777de934e09be29ea4c34b99251",
      "max": 24,
      "min": 0,
      "orientation": "horizontal",
      "style": "IPY_MODEL_cd03c9af7cd34cd7b640f634fc9ab345",
      "value": 1
     }
    },
    "49b3f089192b485b8224b5623fc7ebba": {
     "model_module": "@jupyter-widgets/base",
     "model_module_version": "1.2.0",
     "model_name": "LayoutModel",
     "state": {
      "_model_module": "@jupyter-widgets/base",
      "_model_module_version": "1.2.0",
      "_model_name": "LayoutModel",
      "_view_count": null,
      "_view_module": "@jupyter-widgets/base",
      "_view_module_version": "1.2.0",
      "_view_name": "LayoutView",
      "align_content": null,
      "align_items": null,
      "align_self": null,
      "border": null,
      "bottom": null,
      "display": null,
      "flex": null,
      "flex_flow": null,
      "grid_area": null,
      "grid_auto_columns": null,
      "grid_auto_flow": null,
      "grid_auto_rows": null,
      "grid_column": null,
      "grid_gap": null,
      "grid_row": null,
      "grid_template_areas": null,
      "grid_template_columns": null,
      "grid_template_rows": null,
      "height": null,
      "justify_content": null,
      "justify_items": null,
      "left": null,
      "margin": null,
      "max_height": null,
      "max_width": null,
      "min_height": null,
      "min_width": null,
      "object_fit": null,
      "object_position": null,
      "order": null,
      "overflow": null,
      "overflow_x": null,
      "overflow_y": null,
      "padding": null,
      "right": null,
      "top": null,
      "visibility": null,
      "width": null
     }
    },
    "572eaf218a644e61a4f36c0eff07f0f2": {
     "model_module": "@jupyter-widgets/base",
     "model_module_version": "1.2.0",
     "model_name": "LayoutModel",
     "state": {
      "_model_module": "@jupyter-widgets/base",
      "_model_module_version": "1.2.0",
      "_model_name": "LayoutModel",
      "_view_count": null,
      "_view_module": "@jupyter-widgets/base",
      "_view_module_version": "1.2.0",
      "_view_name": "LayoutView",
      "align_content": null,
      "align_items": null,
      "align_self": null,
      "border": null,
      "bottom": null,
      "display": null,
      "flex": null,
      "flex_flow": null,
      "grid_area": null,
      "grid_auto_columns": null,
      "grid_auto_flow": null,
      "grid_auto_rows": null,
      "grid_column": null,
      "grid_gap": null,
      "grid_row": null,
      "grid_template_areas": null,
      "grid_template_columns": null,
      "grid_template_rows": null,
      "height": null,
      "justify_content": null,
      "justify_items": null,
      "left": null,
      "margin": null,
      "max_height": null,
      "max_width": null,
      "min_height": null,
      "min_width": null,
      "object_fit": null,
      "object_position": null,
      "order": null,
      "overflow": null,
      "overflow_x": null,
      "overflow_y": null,
      "padding": null,
      "right": null,
      "top": null,
      "visibility": null,
      "width": null
     }
    },
    "5a3eae1aac7049d1ad405370b3d986f3": {
     "model_module": "@jupyter-widgets/controls",
     "model_module_version": "1.5.0",
     "model_name": "HTMLModel",
     "state": {
      "_dom_classes": [],
      "_model_module": "@jupyter-widgets/controls",
      "_model_module_version": "1.5.0",
      "_model_name": "HTMLModel",
      "_view_count": null,
      "_view_module": "@jupyter-widgets/controls",
      "_view_module_version": "1.5.0",
      "_view_name": "HTMLView",
      "description": "",
      "description_tooltip": null,
      "layout": "IPY_MODEL_d8fbff62fa604c8b981fb9c641f3b5f8",
      "placeholder": "​",
      "style": "IPY_MODEL_95a56762480b44cd9ca38d7ed75110d0",
      "value": "Annual reports:   4%"
     }
    },
    "78b807d5e4614118abdc1a01f311a161": {
     "model_module": "@jupyter-widgets/controls",
     "model_module_version": "1.5.0",
     "model_name": "HBoxModel",
     "state": {
      "_dom_classes": [],
      "_model_module": "@jupyter-widgets/controls",
      "_model_module_version": "1.5.0",
      "_model_name": "HBoxModel",
      "_view_count": null,
      "_view_module": "@jupyter-widgets/controls",
      "_view_module_version": "1.5.0",
      "_view_name": "HBoxView",
      "box_style": "",
      "children": [
       "IPY_MODEL_5a3eae1aac7049d1ad405370b3d986f3",
       "IPY_MODEL_424ec42a6a0f48da9731dfa0736716df",
       "IPY_MODEL_327f0e4571114f5cba1dee6cf2407d4e"
      ],
      "layout": "IPY_MODEL_49b3f089192b485b8224b5623fc7ebba"
     }
    },
    "95a56762480b44cd9ca38d7ed75110d0": {
     "model_module": "@jupyter-widgets/controls",
     "model_module_version": "1.5.0",
     "model_name": "DescriptionStyleModel",
     "state": {
      "_model_module": "@jupyter-widgets/controls",
      "_model_module_version": "1.5.0",
      "_model_name": "DescriptionStyleModel",
      "_view_count": null,
      "_view_module": "@jupyter-widgets/base",
      "_view_module_version": "1.2.0",
      "_view_name": "StyleView",
      "description_width": ""
     }
    },
    "99a3b777de934e09be29ea4c34b99251": {
     "model_module": "@jupyter-widgets/base",
     "model_module_version": "1.2.0",
     "model_name": "LayoutModel",
     "state": {
      "_model_module": "@jupyter-widgets/base",
      "_model_module_version": "1.2.0",
      "_model_name": "LayoutModel",
      "_view_count": null,
      "_view_module": "@jupyter-widgets/base",
      "_view_module_version": "1.2.0",
      "_view_name": "LayoutView",
      "align_content": null,
      "align_items": null,
      "align_self": null,
      "border": null,
      "bottom": null,
      "display": null,
      "flex": null,
      "flex_flow": null,
      "grid_area": null,
      "grid_auto_columns": null,
      "grid_auto_flow": null,
      "grid_auto_rows": null,
      "grid_column": null,
      "grid_gap": null,
      "grid_row": null,
      "grid_template_areas": null,
      "grid_template_columns": null,
      "grid_template_rows": null,
      "height": null,
      "justify_content": null,
      "justify_items": null,
      "left": null,
      "margin": null,
      "max_height": null,
      "max_width": null,
      "min_height": null,
      "min_width": null,
      "object_fit": null,
      "object_position": null,
      "order": null,
      "overflow": null,
      "overflow_x": null,
      "overflow_y": null,
      "padding": null,
      "right": null,
      "top": null,
      "visibility": null,
      "width": null
     }
    },
    "af348d2ed92e43d085954602dd002b65": {
     "model_module": "@jupyter-widgets/controls",
     "model_module_version": "1.5.0",
     "model_name": "DescriptionStyleModel",
     "state": {
      "_model_module": "@jupyter-widgets/controls",
      "_model_module_version": "1.5.0",
      "_model_name": "DescriptionStyleModel",
      "_view_count": null,
      "_view_module": "@jupyter-widgets/base",
      "_view_module_version": "1.2.0",
      "_view_name": "StyleView",
      "description_width": ""
     }
    },
    "cd03c9af7cd34cd7b640f634fc9ab345": {
     "model_module": "@jupyter-widgets/controls",
     "model_module_version": "1.5.0",
     "model_name": "ProgressStyleModel",
     "state": {
      "_model_module": "@jupyter-widgets/controls",
      "_model_module_version": "1.5.0",
      "_model_name": "ProgressStyleModel",
      "_view_count": null,
      "_view_module": "@jupyter-widgets/base",
      "_view_module_version": "1.2.0",
      "_view_name": "StyleView",
      "bar_color": null,
      "description_width": ""
     }
    },
    "d8fbff62fa604c8b981fb9c641f3b5f8": {
     "model_module": "@jupyter-widgets/base",
     "model_module_version": "1.2.0",
     "model_name": "LayoutModel",
     "state": {
      "_model_module": "@jupyter-widgets/base",
      "_model_module_version": "1.2.0",
      "_model_name": "LayoutModel",
      "_view_count": null,
      "_view_module": "@jupyter-widgets/base",
      "_view_module_version": "1.2.0",
      "_view_name": "LayoutView",
      "align_content": null,
      "align_items": null,
      "align_self": null,
      "border": null,
      "bottom": null,
      "display": null,
      "flex": null,
      "flex_flow": null,
      "grid_area": null,
      "grid_auto_columns": null,
      "grid_auto_flow": null,
      "grid_auto_rows": null,
      "grid_column": null,
      "grid_gap": null,
      "grid_row": null,
      "grid_template_areas": null,
      "grid_template_columns": null,
      "grid_template_rows": null,
      "height": null,
      "justify_content": null,
      "justify_items": null,
      "left": null,
      "margin": null,
      "max_height": null,
      "max_width": null,
      "min_height": null,
      "min_width": null,
      "object_fit": null,
      "object_position": null,
      "order": null,
      "overflow": null,
      "overflow_x": null,
      "overflow_y": null,
      "padding": null,
      "right": null,
      "top": null,
      "visibility": null,
      "width": null
     }
    }
   }
  }
 },
 "nbformat": 4,
 "nbformat_minor": 0
}
