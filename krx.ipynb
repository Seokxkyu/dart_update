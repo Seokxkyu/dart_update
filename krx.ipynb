{
 "cells": [
  {
   "cell_type": "code",
   "execution_count": 1,
   "metadata": {},
   "outputs": [],
   "source": [
    "import requests as rq\n",
    "import pandas as pd\n",
    "import io"
   ]
  },
  {
   "cell_type": "code",
   "execution_count": 2,
   "metadata": {},
   "outputs": [],
   "source": [
    "strtDd = \"20190101\"\n",
    "endDd = \"20250516\"\n",
    "isuCd = \"KR7443060009\""
   ]
  },
  {
   "cell_type": "code",
   "execution_count": 3,
   "metadata": {},
   "outputs": [
    {
     "name": "stderr",
     "output_type": "stream",
     "text": [
      "c:\\Users\\siyun\\AppData\\Local\\Programs\\Python\\Python313\\Lib\\site-packages\\openpyxl\\styles\\stylesheet.py:237: UserWarning: Workbook contains no default style, apply openpyxl's default\n",
      "  warn(\"Workbook contains no default style, apply openpyxl's default\")\n"
     ]
    }
   ],
   "source": [
    "headers = {\n",
    "    'Referer': \"http://data.krx.co.kr/contents/MDC/MDI/mdiLoader/index.cmd?menuId=MDC0201020203\",\n",
    "    'Upgrade-Insecure-Requests': '1',\n",
    "    'User-Agent': \"Mozilla/5.0 (Windows NT 10.0; Win64; x64) AppleWebKit/537.36 (KHTML, like Gecko) Chrome/126.0.0.0 Safari/537.36\"\n",
    "}\n",
    "\n",
    "otp_url ='http://data.krx.co.kr/comm/fileDn/GenerateOTP/generate.cmd' \n",
    "\n",
    "otp_form_data = {\n",
    "  'locale': 'ko_KR',\n",
    "  \"share\": '1',\n",
    "  \"csvxls_isNo\": 'false',\n",
    "  \"name\": 'fileDown',\n",
    "  \"url\": 'dbms/MDC/STAT/standard/MDCSTAT01701',\n",
    "  'adjStkPrc': 2,\n",
    "  'adjStkPrc_check': 'Y',\n",
    "  'strtDd': strtDd,\n",
    "  'endDd': endDd,\n",
    "  'isuCd': isuCd\n",
    "}\n",
    "\n",
    "otp = rq.get(otp_url, otp_form_data, headers=headers)\n",
    "\n",
    "download_url = \"http://data.krx.co.kr/comm/fileDn/download_excel/download.cmd\"\n",
    "download_form_data = {\n",
    "    'code': otp.content\n",
    "}\n",
    "\n",
    "res = rq.post(download_url, download_form_data, headers=headers)\n",
    "df = pd.read_excel(io.BytesIO(res.content))\n",
    "df['일자'] = pd.to_datetime(df['일자'])"
   ]
  },
  {
   "cell_type": "code",
   "execution_count": 4,
   "metadata": {},
   "outputs": [
    {
     "data": {
      "text/html": [
       "<div>\n",
       "<style scoped>\n",
       "    .dataframe tbody tr th:only-of-type {\n",
       "        vertical-align: middle;\n",
       "    }\n",
       "\n",
       "    .dataframe tbody tr th {\n",
       "        vertical-align: top;\n",
       "    }\n",
       "\n",
       "    .dataframe thead th {\n",
       "        text-align: right;\n",
       "    }\n",
       "</style>\n",
       "<table border=\"1\" class=\"dataframe\">\n",
       "  <thead>\n",
       "    <tr style=\"text-align: right;\">\n",
       "      <th></th>\n",
       "      <th>212</th>\n",
       "      <th>150</th>\n",
       "      <th>89</th>\n",
       "      <th>31</th>\n",
       "      <th>0</th>\n",
       "    </tr>\n",
       "  </thead>\n",
       "  <tbody>\n",
       "    <tr>\n",
       "      <th>일자</th>\n",
       "      <td>2024-06-28 00:00:00</td>\n",
       "      <td>2024-09-30 00:00:00</td>\n",
       "      <td>2024-12-30 00:00:00</td>\n",
       "      <td>2025-03-31 00:00:00</td>\n",
       "      <td>2025-05-16 00:00:00</td>\n",
       "    </tr>\n",
       "    <tr>\n",
       "      <th>종가</th>\n",
       "      <td>130000</td>\n",
       "      <td>103700</td>\n",
       "      <td>161400</td>\n",
       "      <td>133800</td>\n",
       "      <td>163000</td>\n",
       "    </tr>\n",
       "    <tr>\n",
       "      <th>시가총액</th>\n",
       "      <td>5778500000000</td>\n",
       "      <td>4609465000000</td>\n",
       "      <td>7174230000000</td>\n",
       "      <td>5998148298000</td>\n",
       "      <td>7311644151000</td>\n",
       "    </tr>\n",
       "    <tr>\n",
       "      <th>상장주식수</th>\n",
       "      <td>44450000</td>\n",
       "      <td>44450000</td>\n",
       "      <td>44450000</td>\n",
       "      <td>44829210</td>\n",
       "      <td>44829210</td>\n",
       "    </tr>\n",
       "  </tbody>\n",
       "</table>\n",
       "</div>"
      ],
      "text/plain": [
       "                       212                  150                  89   \\\n",
       "일자     2024-06-28 00:00:00  2024-09-30 00:00:00  2024-12-30 00:00:00   \n",
       "종가                  130000               103700               161400   \n",
       "시가총액         5778500000000        4609465000000        7174230000000   \n",
       "상장주식수             44450000             44450000             44450000   \n",
       "\n",
       "                       31                   0    \n",
       "일자     2025-03-31 00:00:00  2025-05-16 00:00:00  \n",
       "종가                  133800               163000  \n",
       "시가총액         5998148298000        7311644151000  \n",
       "상장주식수             44829210             44829210  "
      ]
     },
     "execution_count": 4,
     "metadata": {},
     "output_type": "execute_result"
    }
   ],
   "source": [
    "# 각 분기의 마지막 날짜 데이터만 필터링\n",
    "quarterly_data = df.copy()\n",
    "quarterly_data['연월'] = quarterly_data['일자'].dt.to_period('Q')  # 분기(Quarter) 기준으로 기간 설정\n",
    "quarterly_data = quarterly_data.sort_values('일자')\n",
    "quarterly_data = quarterly_data.drop_duplicates(subset=['연월'], keep='last')  # 각 분기의 마지막 데이터만 유지\n",
    "\n",
    "# 필요한 컬럼만 선택\n",
    "result = quarterly_data[['일자', '종가', '시가총액', '상장주식수']].T\n",
    "result"
   ]
  },
  {
   "cell_type": "code",
   "execution_count": 5,
   "metadata": {},
   "outputs": [],
   "source": [
    "result.to_excel(f'./price/{isuCd}_{strtDd}-{endDd}.xlsx', engine='openpyxl', header=False)"
   ]
  },
  {
   "cell_type": "code",
   "execution_count": null,
   "metadata": {},
   "outputs": [],
   "source": []
  }
 ],
 "metadata": {
  "kernelspec": {
   "display_name": "Python 3",
   "language": "python",
   "name": "python3"
  },
  "language_info": {
   "codemirror_mode": {
    "name": "ipython",
    "version": 3
   },
   "file_extension": ".py",
   "mimetype": "text/x-python",
   "name": "python",
   "nbconvert_exporter": "python",
   "pygments_lexer": "ipython3",
   "version": "3.13.2"
  }
 },
 "nbformat": 4,
 "nbformat_minor": 2
}
